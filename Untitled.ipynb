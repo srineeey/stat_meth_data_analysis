{
 "cells": [
  {
   "cell_type": "code",
   "execution_count": 35,
   "metadata": {},
   "outputs": [],
   "source": [
    "import numpy as np\n",
    "import sklearn as sk\n",
    "import pandas as pd\n",
    "import matplotlib.pyplot as plt\n",
    "import seaborn as sns\n",
    "import scipy.stats"
   ]
  },
  {
   "cell_type": "code",
   "execution_count": 20,
   "metadata": {},
   "outputs": [
    {
     "data": {
      "text/html": [
       "<div>\n",
       "<style scoped>\n",
       "    .dataframe tbody tr th:only-of-type {\n",
       "        vertical-align: middle;\n",
       "    }\n",
       "\n",
       "    .dataframe tbody tr th {\n",
       "        vertical-align: top;\n",
       "    }\n",
       "\n",
       "    .dataframe thead th {\n",
       "        text-align: right;\n",
       "    }\n",
       "</style>\n",
       "<table border=\"1\" class=\"dataframe\">\n",
       "  <thead>\n",
       "    <tr style=\"text-align: right;\">\n",
       "      <th></th>\n",
       "      <th>sun_spots</th>\n",
       "      <th>casualties</th>\n",
       "    </tr>\n",
       "  </thead>\n",
       "  <tbody>\n",
       "    <tr>\n",
       "      <td>count</td>\n",
       "      <td>14.000000</td>\n",
       "      <td>14.000000</td>\n",
       "    </tr>\n",
       "    <tr>\n",
       "      <td>mean</td>\n",
       "      <td>82.142857</td>\n",
       "      <td>50.392857</td>\n",
       "    </tr>\n",
       "    <tr>\n",
       "      <td>std</td>\n",
       "      <td>46.905563</td>\n",
       "      <td>3.579743</td>\n",
       "    </tr>\n",
       "    <tr>\n",
       "      <td>min</td>\n",
       "      <td>9.000000</td>\n",
       "      <td>44.600000</td>\n",
       "    </tr>\n",
       "    <tr>\n",
       "      <td>25%</td>\n",
       "      <td>47.500000</td>\n",
       "      <td>47.450000</td>\n",
       "    </tr>\n",
       "    <tr>\n",
       "      <td>50%</td>\n",
       "      <td>81.500000</td>\n",
       "      <td>50.750000</td>\n",
       "    </tr>\n",
       "    <tr>\n",
       "      <td>75%</td>\n",
       "      <td>111.250000</td>\n",
       "      <td>53.025000</td>\n",
       "    </tr>\n",
       "    <tr>\n",
       "      <td>max</td>\n",
       "      <td>165.000000</td>\n",
       "      <td>56.300000</td>\n",
       "    </tr>\n",
       "  </tbody>\n",
       "</table>\n",
       "</div>"
      ],
      "text/plain": [
       "        sun_spots  casualties\n",
       "count   14.000000   14.000000\n",
       "mean    82.142857   50.392857\n",
       "std     46.905563    3.579743\n",
       "min      9.000000   44.600000\n",
       "25%     47.500000   47.450000\n",
       "50%     81.500000   50.750000\n",
       "75%    111.250000   53.025000\n",
       "max    165.000000   56.300000"
      ]
     },
     "execution_count": 20,
     "metadata": {},
     "output_type": "execute_result"
    }
   ],
   "source": [
    "sun_spots =  [165, 89, 55, 34, 9, 30, 59, 83, 109, 127, 153, 112, 80, 45]\n",
    "casualties = [54.6, 53.3, 56.3, 49.6, 47.1, 45.9, 48.5, 50.1, 52.4, 52.5, 53.2, 51.4, 46.0, 44.6]\n",
    "\n",
    "s = np.array(sun_spots)\n",
    "c = np.array(casualties)\n",
    "\n",
    "np_data = np.array([sun_spots, casualties])\n",
    "df = pd.DataFrame(data=np_data.T, columns=[\"sun_spots\", \"casualties\"])\n",
    "df.describe()\n"
   ]
  },
  {
   "cell_type": "code",
   "execution_count": 21,
   "metadata": {},
   "outputs": [
    {
     "data": {
      "image/png": "[encoded data removed]",
      "text/plain": [
       "<Figure size 432x288 with 2 Axes>"
      ]
     },
     "metadata": {
      "needs_background": "light"
     },
     "output_type": "display_data"
    }
   ],
   "source": [
    "corr = df.corr()\n",
    "ax = sns.heatmap(\n",
    "    corr, \n",
    "    vmin=-1, vmax=1, center=0,\n",
    "    cmap=sns.diverging_palette(20, 220, n=200),\n",
    "    square=True, xticklabels=True, yticklabels=True, annot=True)"
   ]
  },
  {
   "cell_type": "code",
   "execution_count": 22,
   "metadata": {},
   "outputs": [
    {
     "data": {
      "image/png": "[encoded data removed]",
      "text/plain": [
       "<Figure size 432x288 with 1 Axes>"
      ]
     },
     "metadata": {
      "needs_background": "light"
     },
     "output_type": "display_data"
    }
   ],
   "source": [
    "scatter_ax = df.plot(x=\"sun_spots\", y= \"casualties\", kind=\"scatter\")"
   ]
  },
  {
   "cell_type": "code",
   "execution_count": 23,
   "metadata": {},
   "outputs": [
    {
     "name": "stdout",
     "output_type": "stream",
     "text": [
      "2200.131868131868\n",
      "12.814560439560436\n"
     ]
    }
   ],
   "source": [
    "s_mean = df.mean()[0]\n",
    "c_mean = df.mean()[1]\n",
    "s_var = df.var()[0]\n",
    "c_var = df.var()[1]\n",
    "print(s_var)\n",
    "print(c_var)"
   ]
  },
  {
   "cell_type": "code",
   "execution_count": 31,
   "metadata": {},
   "outputs": [
    {
     "name": "stdout",
     "output_type": "stream",
     "text": [
      "0.04779483747227939\n"
     ]
    }
   ],
   "source": [
    "\"\"\"Sample gradient of linear fit\"\"\"\n",
    "np_cov = np.array(df.cov())\n",
    "\n",
    "lin_grad_hat = np_cov[0,1]/s_var\n",
    "print(lin_grad_hat)"
   ]
  },
  {
   "cell_type": "code",
   "execution_count": 32,
   "metadata": {},
   "outputs": [
    {
     "name": "stdout",
     "output_type": "stream",
     "text": [
      "0.4820080282125038\n"
     ]
    }
   ],
   "source": [
    "\"\"\"Sample gradient covariance\"\"\"\n",
    "grad_cov = c\n",
    "grad_cov = s.T.dot(grad_cov)\n",
    "#inv_x_proj = np.linalg.inv(s.T.dot(s))\n",
    "inv_x_proj = 1/(s.T.dot(s))\n",
    "#grad_cov = inv_x_proj.dotp(grad_cov)\n",
    "grad_cov = inv_x_proj * (grad_cov)\n",
    "print(grad_cov)\n"
   ]
  },
  {
   "cell_type": "code",
   "execution_count": 37,
   "metadata": {},
   "outputs": [
    {
     "name": "stdout",
     "output_type": "stream",
     "text": [
      "-0.0991577622669969\n",
      "2.1788128296634177\n"
     ]
    }
   ],
   "source": [
    "\"\"\"Hypothesis: grad = 0\"\"\"\n",
    "\"\"\"gradient follow student t distribution\"\"\"\n",
    "grad_hyp = 0.\n",
    "conf = 0.05\n",
    "n = len(sun_spots)\n",
    "\n",
    "t = (grad_hyp - lin_grad_hat)/grad_cov\n",
    "print(t)\n",
    "\n",
    "crit_t = scipy.stats.t(n-2).ppf(1-conf/2.)\n",
    "print(crit_t)"
   ]
  },
  {
   "cell_type": "code",
   "execution_count": null,
   "metadata": {},
   "outputs": [],
   "source": []
  }
 ],
 "metadata": {
  "kernelspec": {
   "display_name": "Python 3",
   "language": "python",
   "name": "python3"
  },
  "language_info": {
   "codemirror_mode": {
    "name": "ipython",
    "version": 3
   },
   "file_extension": ".py",
   "mimetype": "text/x-python",
   "name": "python",
   "nbconvert_exporter": "python",
   "pygments_lexer": "ipython3",
   "version": "3.7.3"
  }
 },
 "nbformat": 4,
 "nbformat_minor": 2
}
