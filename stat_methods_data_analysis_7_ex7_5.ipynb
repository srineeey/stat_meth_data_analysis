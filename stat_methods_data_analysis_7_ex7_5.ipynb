{
 "cells": [
  {
   "cell_type": "code",
   "execution_count": 1,
   "metadata": {},
   "outputs": [],
   "source": [
    "import numpy as np\n",
    "import pandas as pd\n",
    "import matplotlib.pyplot as plt\n",
    "import sklearn as sk\n",
    "import seaborn as sns\n",
    "import scipy"
   ]
  },
  {
   "cell_type": "code",
   "execution_count": 2,
   "metadata": {},
   "outputs": [
    {
     "name": "stdout",
     "output_type": "stream",
     "text": [
      "[20 20 20 20 20]\n",
      "[ 0.062    0.53418  0.98694  1.91548  4.13422 12.2724 ]\n"
     ]
    },
    {
     "data": {
      "text/plain": [
       "<matplotlib.axes._subplots.AxesSubplot at 0x7f5442d6e358>"
      ]
     },
     "execution_count": 2,
     "metadata": {},
     "output_type": "execute_result"
    },
    {
     "data": {
      "image/png": "[encoded data removed]",
      "text/plain": [
       "<Figure size 432x288 with 1 Axes>"
      ]
     },
     "metadata": {
      "needs_background": "light"
     },
     "output_type": "display_data"
    }
   ],
   "source": [
    "data = np.loadtxt(\"block7.txt\")\n",
    "size = len(data)\n",
    "n_bins = 5\n",
    "df = pd.DataFrame(data, columns=[\"data\"])\n",
    "df[\"bins\"], bin_edges = pd.qcut(df[\"data\"], q=n_bins, retbins=True)\n",
    "bin_counts = np.array(df[\"bins\"].value_counts(sort=False))\n",
    "print(bin_counts)\n",
    "print(bin_edges)\n",
    "df[\"data\"].plot.kde()"
   ]
  },
  {
   "cell_type": "code",
   "execution_count": 3,
   "metadata": {},
   "outputs": [
    {
     "name": "stdout",
     "output_type": "stream",
     "text": [
      "[20 20 20 20 20]\n",
      "[ 0.062    0.53418  0.98694  1.91548  4.13422 12.2724 ]\n",
      "[0.14265322 0.1172348  0.19156993 0.27602375 0.23533788]\n",
      "0.9628195777712211\n"
     ]
    }
   ],
   "source": [
    "def get_p_bins(a, bin_edges):\n",
    "    p_bins = []\n",
    "    for i_start in range(len(bin_edges)-1):\n",
    "        bin_start = bin_edges[i_start]\n",
    "        bin_stop = bin_edges[i_start + 1]\n",
    "        #print(\"bin:{}, [{},{}]\".format(i_start, bin_start, bin_stop))\n",
    "        p_bins.append(scipy.stats.expon.cdf(bin_stop, scale=a) - scipy.stats.expon.cdf(bin_start, scale=a))\n",
    "        #print(p_bins[-1])\n",
    "    #p_bins = np.array(p_bins) / np.array(p_bins).sum()\n",
    "    p_bins = np.array(p_bins)\n",
    "    return p_bins\n",
    "\n",
    "a_0 = 3.\n",
    "p_bins = get_p_bins(a_0, bin_edges)\n",
    "print(bin_counts)\n",
    "print(bin_edges)\n",
    "print(p_bins)\n",
    "print(p_bins.sum())"
   ]
  },
  {
   "cell_type": "code",
   "execution_count": 4,
   "metadata": {},
   "outputs": [
    {
     "name": "stdout",
     "output_type": "stream",
     "text": [
      "Test statistic T=10.809995312205372\n",
      "critical T=7.779440339734858\n",
      "Hypothesis a=3.0 has to be discarded!\n"
     ]
    }
   ],
   "source": [
    "test_stat = 0.\n",
    "for i, bin_count in enumerate(bin_counts):\n",
    "    test_stat += (bin_count - size*p_bins[i])*(bin_count - size*p_bins[i])/(size*p_bins[i])\n",
    "    #print(size*p_bins[i])\n",
    "    \n",
    "print(\"Test statistic T={}\".format(test_stat))\n",
    "conf = 0.90\n",
    "max_t = scipy.stats.chi2.ppf(q=conf,df=n_bins-1)\n",
    "print(\"critical T={}\".format(max_t))\n",
    "if test_stat > max_t:\n",
    "    print(\"Hypothesis a={} has to be discarded!\".format(a_0))\n",
    "else:\n",
    "    print(\"Hypothesis a={} holds up!\".format(a_0))"
   ]
  },
  {
   "cell_type": "code",
   "execution_count": 5,
   "metadata": {},
   "outputs": [],
   "source": [
    "def test_stat(a, bin_count, bin_edges):\n",
    "    p_bins = get_p_bins(a, bin_edges)\n",
    "    test_stat = 0.\n",
    "    for i, bin_count in enumerate(bin_counts):\n",
    "        test_stat += (bin_count - size*p_bins[i])*(bin_count - size*p_bins[i])/(size*p_bins[i])\n",
    "        #print(size*p_bins[i])\n",
    "        \n",
    "    return test_stat\n",
    "    "
   ]
  },
  {
   "cell_type": "code",
   "execution_count": 7,
   "metadata": {},
   "outputs": [
    {
     "name": "stdout",
     "output_type": "stream",
     "text": [
      "optimized a=[2.30165607]\n",
      "Test statistic T=[5.45756998]\n",
      "critical T=7.779440339734858\n",
      "Hypothesis a=[2.30165607] holds up!\n"
     ]
    }
   ],
   "source": [
    "opt_a = scipy.optimize.minimize(lambda x: test_stat(x, bin_count, bin_edges), x0=a_0).x\n",
    "print(\"optimized a={}\".format(opt_a))\n",
    "opt_test_stat = test_stat(opt_a, bin_count, bin_edges)\n",
    "print(\"Test statistic T={}\".format(opt_test_stat))\n",
    "print(\"critical T={}\".format(max_t))\n",
    "if opt_test_stat > max_t:\n",
    "    print(\"Hypothesis a={} has to be discarded!\".format(opt_a))\n",
    "else:\n",
    "    print(\"Hypothesis a={} holds up!\".format(opt_a))"
   ]
  },
  {
   "cell_type": "code",
   "execution_count": null,
   "metadata": {},
   "outputs": [],
   "source": []
  }
 ],
 "metadata": {
  "kernelspec": {
   "display_name": "Python 3",
   "language": "python",
   "name": "python3"
  },
  "language_info": {
   "codemirror_mode": {
    "name": "ipython",
    "version": 3
   },
   "file_extension": ".py",
   "mimetype": "text/x-python",
   "name": "python",
   "nbconvert_exporter": "python",
   "pygments_lexer": "ipython3",
   "version": "3.7.3"
  }
 },
 "nbformat": 4,
 "nbformat_minor": 2
}
