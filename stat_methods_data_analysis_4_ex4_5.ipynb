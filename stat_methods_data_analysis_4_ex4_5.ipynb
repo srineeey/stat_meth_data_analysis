{
 "cells": [
  {
   "cell_type": "code",
   "execution_count": 1,
   "metadata": {},
   "outputs": [],
   "source": [
    "import numpy as np\n",
    "import scipy.stats, scipy.special, scipy.optimize\n",
    "import matplotlib.pyplot as plt\n",
    "import pandas as pd"
   ]
  },
  {
   "cell_type": "code",
   "execution_count": 2,
   "metadata": {},
   "outputs": [],
   "source": [
    "np.random.seed(42)\n",
    "n_samples = 5000\n",
    "sample_size = 250\n",
    "n_samples = 5\n",
    "sample_size = 100\n",
    "var_1 = 1.\n",
    "var_2 = 10.\n",
    "mu_real = 0.\n",
    "p_real = 0.7\n",
    "\n",
    "cuttoff =100\n",
    "delta = 0.01"
   ]
  },
  {
   "cell_type": "code",
   "execution_count": 3,
   "metadata": {},
   "outputs": [],
   "source": [
    "\"\"\"Gerneate array of cumulative density\"\"\"\n",
    "total_cdf = lambda x: (p_real)*scipy.stats.norm.cdf(x, loc=mu_real, scale=var_1) + (1.-p_real)*scipy.stats.norm.cdf(x, loc=mu_real, scale=var_2)\n",
    "x_vals = np.arange(-1.*cuttoff,1.*cuttoff,0.1)\n",
    "x_vals = np.array(x_vals)\n",
    "total_cdf_vals = [total_cdf(x) for x in x_vals]\n",
    "total_cdf_vals = np.array(total_cdf_vals)"
   ]
  },
  {
   "cell_type": "code",
   "execution_count": 4,
   "metadata": {},
   "outputs": [],
   "source": [
    "\"\"\"Generate random samples from distribution\"\"\"\n",
    "def gen_rand_dist(size=1, p=p_real, mu=mu_real):\n",
    "    var_1 = 1.\n",
    "    var_2 = 10.\n",
    "    total_cdf = lambda x: (p_real)*scipy.stats.norm.cdf(x, loc=mu_real, scale=var_1) + (1.-p_real)*scipy.stats.norm.cdf(x, loc=mu_real, scale=var_2)\n",
    "    x_vals = np.arange(-1.*cuttoff,1.*cuttoff,0.1)\n",
    "    x_vals = np.array(x_vals)\n",
    "    total_cdf_vals = [total_cdf(x) for x in x_vals]\n",
    "    total_cdf_vals = np.array(total_cdf_vals)\n",
    "\n",
    "    rand_ps = np.random.uniform(low=0.0, high=1.0, size=size,)\n",
    "    rand_xs = np.zeros(size)\n",
    "    for i, rand_p in enumerate(rand_ps):\n",
    "        rand_p_list = np.full(shape=total_cdf_vals.size, fill_value=rand_p)\n",
    "        id_rand_x = np.abs(rand_p_list - total_cdf_vals).argmin()\n",
    "        #print(x_vals.flat[id_rand_x])\n",
    "        rand_xs[i] = x_vals.flat[id_rand_x]\n",
    "    \n",
    "    #print(rand_xs)\n",
    "    return rand_xs\n",
    "\n",
    "def lhood(input_sample, mu, p):\n",
    "    lhood = 1.\n",
    "    #print(lhood)\n",
    "    \n",
    "    sample_prob = p*scipy.stats.norm.pdf(input_sample, loc=mu, scale=var_1) + (1-p)*scipy.stats.norm.pdf(input_sample, loc=mu, scale=var_2)\n",
    "    lhood = sample_prob.prod()\n",
    "    #print(lhood)\n",
    "    \n",
    "    return lhood\n",
    "\"\"\"ALWAYS US -LOG LIKELYHOOD\"\"\"\n",
    "\"\"\"Numerically more efficient!!!\"\"\"\n",
    "def neg_log_lhood(input_sample, mu, p):\n",
    "    neg_log_lhood = 0.\n",
    "    \n",
    "    \n",
    "    log_sample_prob = np.log( p*scipy.stats.norm.pdf(input_sample, loc=mu, scale=var_1) + (1.-p)*scipy.stats.norm.pdf(input_sample, loc=mu, scale=var_2) )\n",
    "    neg_log_lhood = -1. * (log_sample_prob.sum())\n",
    "    \n",
    "    return neg_log_lhood"
   ]
  },
  {
   "cell_type": "code",
   "execution_count": 5,
   "metadata": {},
   "outputs": [
    {
     "data": {
      "text/plain": [
       "[<matplotlib.lines.Line2D at 0x7f7c401bef60>]"
      ]
     },
     "execution_count": 5,
     "metadata": {},
     "output_type": "execute_result"
    },
    {
     "data": {
      "image/png": "[encoded data removed]",
      "text/plain": [
       "<Figure size 432x288 with 1 Axes>"
      ]
     },
     "metadata": {
      "needs_background": "light"
     },
     "output_type": "display_data"
    }
   ],
   "source": [
    "x_vals = np.arange(-10,10,0.1)\n",
    "#gauss_vals = [scipy.stats.norm.pdf(x, loc=mu_real, scale=var_2) for x in x_vals]\n",
    "#gauss_vals = [scipy.stats.norm.pdf(x, loc=mu_real, scale=var_2) for x in x_vals]\n",
    "gauss_cum_vals = [p_real*scipy.stats.norm.cdf(x, loc=mu_real, scale=var_1) + (1-p_real)*scipy.stats.norm.cdf(x, loc=mu_real, scale=var_2) for x in x_vals]\n",
    "plt.plot(x_vals, gauss_cum_vals)"
   ]
  },
  {
   "cell_type": "code",
   "execution_count": null,
   "metadata": {},
   "outputs": [],
   "source": []
  },
  {
   "cell_type": "code",
   "execution_count": 6,
   "metadata": {},
   "outputs": [],
   "source": [
    "#samples\n",
    "samples = np.zeros((n_samples, sample_size))\n",
    "\n",
    "for i in range(n_samples):\n",
    "    samples[i] = gen_rand_dist(size=sample_size)\n"
   ]
  },
  {
   "cell_type": "code",
   "execution_count": null,
   "metadata": {},
   "outputs": [],
   "source": []
  },
  {
   "cell_type": "code",
   "execution_count": 7,
   "metadata": {},
   "outputs": [
    {
     "data": {
      "text/plain": [
       "[<matplotlib.lines.Line2D at 0x7f7c3fa840f0>]"
      ]
     },
     "execution_count": 7,
     "metadata": {},
     "output_type": "execute_result"
    },
    {
     "data": {
      "image/png": "[encoded data removed]",
      "text/plain": [
       "<Figure size 432x288 with 1 Axes>"
      ]
     },
     "metadata": {
      "needs_background": "light"
     },
     "output_type": "display_data"
    }
   ],
   "source": [
    "density = scipy.stats.gaussian_kde(samples[0])\n",
    "samples_xs = np.arange(-20,20,0.01)\n",
    "plt.plot(samples_xs, density(samples_xs))\n"
   ]
  },
  {
   "cell_type": "code",
   "execution_count": 8,
   "metadata": {},
   "outputs": [
    {
     "name": "stdout",
     "output_type": "stream",
     "text": [
      "0\n",
      "[-0.08272181  0.65797368]\n",
      "1\n",
      "[0.16794954 0.61470672]\n",
      "2\n",
      "[-0.16251417  0.73010591]\n",
      "3\n",
      "[-0.13662182  0.70753231]\n",
      "4\n",
      "[0.1995859  0.66374133]\n",
      "5\n",
      "[0.07066209 0.70174989]\n",
      "6\n",
      "[-0.03451503  0.69392353]\n",
      "7\n",
      "[0.09729847 0.72217198]\n",
      "8\n",
      "[0.10877149 0.68963213]\n",
      "9\n",
      "[-0.07252803  0.70979887]\n",
      "10\n",
      "[0.07541517 0.67845821]\n",
      "11\n",
      "[0.03607402 0.68913792]\n",
      "12\n",
      "[-0.03045027  0.71327344]\n",
      "13\n",
      "[0.14156106 0.73339359]\n",
      "14\n",
      "[-0.10744753  0.70976112]\n",
      "15\n",
      "[-0.04605156  0.69187104]\n",
      "16\n",
      "[0.02830911 0.71813856]\n",
      "17\n",
      "[-0.07429646  0.71350264]\n",
      "18\n",
      "[0.01258566 0.72379412]\n",
      "19\n",
      "[-0.11095593  0.68936653]\n",
      "20\n",
      "[-0.00142959  0.70374416]\n",
      "21\n",
      "[-0.09978155  0.70116991]\n",
      "22\n",
      "[0.00503819 0.68769946]\n",
      "23\n",
      "[-0.00619678  0.68516656]\n",
      "24\n",
      "[-0.04920754  0.70651104]\n",
      "25\n",
      "[0.0058407 0.7001036]\n",
      "26\n",
      "[0.04243498 0.70031484]\n",
      "27\n",
      "[-0.14840631  0.66485425]\n",
      "28\n",
      "[-0.04518723  0.70841552]\n",
      "29\n",
      "[-0.1354766   0.71274942]\n",
      "30\n",
      "[0.03190301 0.69198431]\n",
      "31\n",
      "[-0.1707818   0.68178509]\n",
      "32\n",
      "[-0.07816009  0.73258386]\n",
      "33\n",
      "[-0.03072954  0.7058058 ]\n",
      "34\n",
      "[-0.0521747   0.74949503]\n",
      "35\n",
      "[-0.01757791  0.71806977]\n",
      "36\n",
      "[0.02261523 0.70793197]\n",
      "37\n",
      "[0.03113488 0.7519503 ]\n",
      "38\n",
      "[-0.06951178  0.74849185]\n",
      "39\n",
      "[0.02178576 0.67941637]\n",
      "40\n",
      "[-0.0665126   0.70649289]\n",
      "41\n",
      "[0.04095427 0.69146211]\n",
      "42\n",
      "[0.05410796 0.70349792]\n",
      "43\n",
      "[0.06831425 0.72244645]\n",
      "44\n",
      "[0.12698651 0.71334757]\n",
      "45\n",
      "[-0.10325672  0.68660029]\n",
      "46\n",
      "[0.00689598 0.69023142]\n",
      "47\n",
      "[0.02515846 0.59113071]\n",
      "48\n",
      "[0.0406765  0.68740407]\n",
      "49\n",
      "[-0.05546321  0.72214971]\n"
     ]
    }
   ],
   "source": [
    "mu_mls = np.zeros(n_samples)\n",
    "p_mls = np.zeros(n_samples)\n",
    "mu_0 = 0.\n",
    "p_0 = 0.5\n",
    "for i, sample in enumerate(samples):\n",
    "    print(i)\n",
    "    \"\"\"Numerically inefficent, often gives ln(0) error -> use neg_log_lhood()\"\"\"\n",
    "    neg_log_lhood_mu = lambda mu:  -1.*np.log(lhood(sample, mu, p_0))\n",
    "    neg_log_lhood_p = lambda p:  -1.*np.log(lhood(sample, mu_0, p))\n",
    "    neg_lhood_mu = lambda mu:  -1.*(lhood(sample, mu, p_0))\n",
    "    neg_lhood_p = lambda p:  -1.*(lhood(sample, mu_0, p))\n",
    "    \n",
    "    \"\"\"\n",
    "    #analytical rearranging yields\n",
    "    def special_neg_log_lhood(sample, mu, p):\n",
    "        ln_lhood = 0.\n",
    "        inv_delta_var = (var_1*var_2)/(var_1 - var_2)\n",
    "        neg_lhood = 0.\n",
    "        for val in sample:\n",
    "            dev2 = (val - mu)*(val - mu)\n",
    "            exp_pot = 0.5*dev2*inv_delta_var\n",
    "            ln_l_i = ( np.log(p) - 0.5*np.log(var_1) - (0.5*dev2)/(var_1) ) * np.log(1. +  np.sqrt(var_1/var_2) * (1-p)/p * np.exp(-exp_pot))\n",
    "            neg_lhood += ln_l_i\n",
    "            \n",
    "        return (-1*ln_lhood)\n",
    "    \"\"\"        \n",
    "    \n",
    "    \"\"\"Bounds for parameters μ and p\"\"\"\n",
    "    par_bounds = ((-10.,10.),(0.01,0.99))\n",
    "    #par_bounds = ((0.,1.),(-10.,10.))\n",
    "    \n",
    "    \n",
    "    def arr_neg_log_lhood(par, sample):\n",
    "        result = neg_log_lhood(sample, par[0], par[1])\n",
    "        return result\n",
    "    \n",
    "    \"\"\"find maximum likelyhood parameters μ and p\"\"\"\n",
    "    ml = scipy.optimize.minimize(lambda par: arr_neg_log_lhood(par, sample), x0=[mu_0, p_0], bounds=par_bounds)\n",
    "    \n",
    "    \n",
    "    #def arr_lhood(par, sample):\n",
    "    #    result = -(lhood(sample, par[0], par[1]))\n",
    "    #    return result\n",
    "    \n",
    "    \"\"\"find maximum likelyhood parameters μ and p\"\"\"\n",
    "    #ml = scipy.optimize.minimize(lambda par: arr_lhood(par, sample), x0=[mu_0, p_0], bounds=par_bounds)\n",
    "    \n",
    "    \n",
    "    \"\"\"\n",
    "    def arr_special_neg_log_lhood(par):\n",
    "        result = special_neg_log_lhood(sample, par[0], par[1])\n",
    "        return result\n",
    "    ml = scipy.optimize.minimize(lambda par: arr_special_neg_log_lhood(par), x0=[mu_0, p_0], bounds=par_bounds)\n",
    "    \"\"\"\n",
    "    \n",
    "    print(ml.x)\n",
    "    mu_mls[i] = ml.x[0]\n",
    "    p_mls[i] = ml.x[1]"
   ]
  },
  {
   "cell_type": "code",
   "execution_count": 9,
   "metadata": {},
   "outputs": [
    {
     "data": {
      "text/plain": [
       "[<matplotlib.lines.Line2D at 0x7f7c3fa7c940>]"
      ]
     },
     "execution_count": 9,
     "metadata": {},
     "output_type": "execute_result"
    },
    {
     "data": {
      "image/png": "[encoded data removed]",
      "text/plain": [
       "<Figure size 432x288 with 1 Axes>"
      ]
     },
     "metadata": {
      "needs_background": "light"
     },
     "output_type": "display_data"
    }
   ],
   "source": [
    "mu_vals = np.arange(-10, 10, 0.01)\n",
    "p_vals = np.arange(0.001, 1., 0.001)\n",
    "\n",
    "lhood_mu_vals = np.array([lhood(samples[0], mu_val, p_0) for mu_val in mu_vals])\n",
    "lhood_p_vals = np.array([lhood(samples[0], mu_0, p_val) for p_val in p_vals])\n",
    "\n",
    "#likelyhood of μ\n",
    "plt.plot(mu_vals, lhood_mu_vals)"
   ]
  },
  {
   "cell_type": "code",
   "execution_count": 10,
   "metadata": {},
   "outputs": [
    {
     "data": {
      "text/plain": [
       "[<matplotlib.lines.Line2D at 0x7f7c3f9ddac8>]"
      ]
     },
     "execution_count": 10,
     "metadata": {},
     "output_type": "execute_result"
    },
    {
     "data": {
      "image/png": "[encoded data removed]",
      "text/plain": [
       "<Figure size 432x288 with 1 Axes>"
      ]
     },
     "metadata": {
      "needs_background": "light"
     },
     "output_type": "display_data"
    }
   ],
   "source": [
    "#likelyhood of p\n",
    "plt.plot(p_vals, lhood_p_vals)"
   ]
  },
  {
   "cell_type": "code",
   "execution_count": 11,
   "metadata": {},
   "outputs": [
    {
     "data": {
      "text/plain": [
       "[<matplotlib.lines.Line2D at 0x7f7c3f9bea20>]"
      ]
     },
     "execution_count": 11,
     "metadata": {},
     "output_type": "execute_result"
    },
    {
     "data": {
      "image/png": "[encoded data removed]",
      "text/plain": [
       "<Figure size 432x288 with 1 Axes>"
      ]
     },
     "metadata": {
      "needs_background": "light"
     },
     "output_type": "display_data"
    }
   ],
   "source": [
    "neg_log_lhood_mu_vals = np.array([neg_log_lhood(samples[0], mu_val, p_0) for mu_val in mu_vals])\n",
    "neg_log_lhood_p_vals = np.array([neg_log_lhood(samples[0], mu_0, p_val) for p_val in p_vals])\n",
    "#negative loglikelyhood of μ\n",
    "plt.xlabel(\"μ\")\n",
    "plt.ylabel(\"-log(l(sample|μ))\")\n",
    "plt.plot(mu_vals, neg_log_lhood_mu_vals)\n"
   ]
  },
  {
   "cell_type": "code",
   "execution_count": 12,
   "metadata": {},
   "outputs": [
    {
     "data": {
      "text/plain": [
       "[<matplotlib.lines.Line2D at 0x7f7c3f9311d0>]"
      ]
     },
     "execution_count": 12,
     "metadata": {},
     "output_type": "execute_result"
    },
    {
     "data": {
      "image/png": "[encoded data removed]",
      "text/plain": [
       "<Figure size 432x288 with 1 Axes>"
      ]
     },
     "metadata": {
      "needs_background": "light"
     },
     "output_type": "display_data"
    }
   ],
   "source": [
    "#negative log likelyhood of p\n",
    "plt.xlabel(\"p\")\n",
    "plt.ylabel(\"-log(l(sample|p))\")\n",
    "plt.plot(p_vals, neg_log_lhood_p_vals)"
   ]
  },
  {
   "cell_type": "code",
   "execution_count": 13,
   "metadata": {},
   "outputs": [
    {
     "data": {
      "text/html": [
       "<div>\n",
       "<style scoped>\n",
       "    .dataframe tbody tr th:only-of-type {\n",
       "        vertical-align: middle;\n",
       "    }\n",
       "\n",
       "    .dataframe tbody tr th {\n",
       "        vertical-align: top;\n",
       "    }\n",
       "\n",
       "    .dataframe thead th {\n",
       "        text-align: right;\n",
       "    }\n",
       "</style>\n",
       "<table border=\"1\" class=\"dataframe\">\n",
       "  <thead>\n",
       "    <tr style=\"text-align: right;\">\n",
       "      <th></th>\n",
       "      <th>μ</th>\n",
       "      <th>p</th>\n",
       "    </tr>\n",
       "  </thead>\n",
       "  <tbody>\n",
       "    <tr>\n",
       "      <td>count</td>\n",
       "      <td>50.000000</td>\n",
       "      <td>50.000000</td>\n",
       "    </tr>\n",
       "    <tr>\n",
       "      <td>mean</td>\n",
       "      <td>-0.010518</td>\n",
       "      <td>0.700101</td>\n",
       "    </tr>\n",
       "    <tr>\n",
       "      <td>std</td>\n",
       "      <td>0.085384</td>\n",
       "      <td>0.028773</td>\n",
       "    </tr>\n",
       "    <tr>\n",
       "      <td>min</td>\n",
       "      <td>-0.170782</td>\n",
       "      <td>0.591131</td>\n",
       "    </tr>\n",
       "    <tr>\n",
       "      <td>25%</td>\n",
       "      <td>-0.071774</td>\n",
       "      <td>0.689195</td>\n",
       "    </tr>\n",
       "    <tr>\n",
       "      <td>50%</td>\n",
       "      <td>-0.003813</td>\n",
       "      <td>0.703621</td>\n",
       "    </tr>\n",
       "    <tr>\n",
       "      <td>75%</td>\n",
       "      <td>0.039526</td>\n",
       "      <td>0.713464</td>\n",
       "    </tr>\n",
       "    <tr>\n",
       "      <td>max</td>\n",
       "      <td>0.199586</td>\n",
       "      <td>0.751950</td>\n",
       "    </tr>\n",
       "  </tbody>\n",
       "</table>\n",
       "</div>"
      ],
      "text/plain": [
       "               μ          p\n",
       "count  50.000000  50.000000\n",
       "mean   -0.010518   0.700101\n",
       "std     0.085384   0.028773\n",
       "min    -0.170782   0.591131\n",
       "25%    -0.071774   0.689195\n",
       "50%    -0.003813   0.703621\n",
       "75%     0.039526   0.713464\n",
       "max     0.199586   0.751950"
      ]
     },
     "execution_count": 13,
     "metadata": {},
     "output_type": "execute_result"
    }
   ],
   "source": [
    "ml_df = pd.DataFrame({\"μ\" : mu_mls, \"p\" : p_mls})\n",
    "ml_df.describe()"
   ]
  },
  {
   "cell_type": "code",
   "execution_count": 14,
   "metadata": {},
   "outputs": [
    {
     "data": {
      "text/plain": [
       "'\\nscipy.optim.minimize has trouble minimizing the function\\nbut plot clearly indicates minimum at 0.7!\\nMean fluctuates around 0. as expected\\n'"
      ]
     },
     "execution_count": 14,
     "metadata": {},
     "output_type": "execute_result"
    }
   ],
   "source": [
    "\"\"\"\n",
    "scipy.optim.minimize has trouble minimizing the function\n",
    "but plot clearly indicates minimum at 0.7!\n",
    "Mean fluctuates around 0. as expected\n",
    "\"\"\""
   ]
  },
  {
   "cell_type": "code",
   "execution_count": null,
   "metadata": {},
   "outputs": [],
   "source": []
  },
  {
   "cell_type": "code",
   "execution_count": null,
   "metadata": {},
   "outputs": [],
   "source": []
  },
  {
   "cell_type": "code",
   "execution_count": null,
   "metadata": {},
   "outputs": [],
   "source": []
  },
  {
   "cell_type": "code",
   "execution_count": null,
   "metadata": {},
   "outputs": [],
   "source": []
  },
  {
   "cell_type": "code",
   "execution_count": null,
   "metadata": {},
   "outputs": [],
   "source": []
  }
 ],
 "metadata": {
  "kernelspec": {
   "display_name": "Python 3",
   "language": "python",
   "name": "python3"
  },
  "language_info": {
   "codemirror_mode": {
    "name": "ipython",
    "version": 3
   },
   "file_extension": ".py",
   "mimetype": "text/x-python",
   "name": "python",
   "nbconvert_exporter": "python",
   "pygments_lexer": "ipython3",
   "version": "3.7.3"
  }
 },
 "nbformat": 4,
 "nbformat_minor": 2
}
